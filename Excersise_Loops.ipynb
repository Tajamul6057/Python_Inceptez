{
  "nbformat": 4,
  "nbformat_minor": 0,
  "metadata": {
    "colab": {
      "name": "Solved_Excersise_Loops.ipynb",
      "provenance": [],
      "collapsed_sections": []
    },
    "kernelspec": {
      "name": "python3",
      "display_name": "Python 3"
    },
    "language_info": {
      "name": "python"
    }
  },
  "cells": [
    {
      "cell_type": "code",
      "metadata": {
        "colab": {
          "base_uri": "https://localhost:8080/"
        },
        "id": "4fkiEODq_XxV",
        "outputId": "10b2e73c-47e1-4a9f-e7e5-4ab645ecc47a"
      },
      "source": [
        "#1. Write a Python program to find those numbers which are divisible by 7 and multiple of 5, between 1500 and 2700 (both included).\n",
        "\n",
        "#Solution:\n",
        "a=1500\n",
        "while a>=1500 and a<=2700:\n",
        "    if((a%7==0)and(a%5==0)):\n",
        "        print(a,end=',')\n",
        "    a=a+1"
      ],
      "execution_count": null,
      "outputs": [
        {
          "output_type": "stream",
          "text": [
            "1505,1540,1575,1610,1645,1680,1715,1750,1785,1820,1855,1890,1925,1960,1995,2030,2065,2100,2135,2170,2205,2240,2275,2310,2345,2380,2415,2450,2485,2520,2555,2590,2625,2660,2695,"
          ],
          "name": "stdout"
        }
      ]
    },
    {
      "cell_type": "code",
      "metadata": {
        "colab": {
          "base_uri": "https://localhost:8080/"
        },
        "id": "PYeozlKO_05V",
        "outputId": "8d0585d3-f1b1-414b-8cf6-43c9f7dfba17"
      },
      "source": [
        "#2. Write a Python program to construct the following pattern, using a nested for loop.\n",
        "\n",
        "'''* \n",
        "* * \n",
        "* * * \n",
        "* * * * \n",
        "* * * * * \n",
        "* * * * \n",
        "* * * \n",
        "* * \n",
        "*'''\n",
        "#solution:\n",
        "\n",
        "n = 5\n",
        "for i in range(0,n+1,1):\n",
        "  for j in range(i):\n",
        "    print(\"* \",end =\"\")\n",
        "  print('')\n",
        "for i in range(n,0,-1):\n",
        "  for j in range(i):\n",
        "    print(\"* \",end =\"\")\n",
        "  print('')\n"
      ],
      "execution_count": null,
      "outputs": [
        {
          "output_type": "stream",
          "text": [
            "\n",
            "* \n",
            "* * \n",
            "* * * \n",
            "* * * * \n",
            "* * * * * \n",
            "* * * * * \n",
            "* * * * \n",
            "* * * \n",
            "* * \n",
            "* \n"
          ],
          "name": "stdout"
        }
      ]
    },
    {
      "cell_type": "code",
      "metadata": {
        "colab": {
          "base_uri": "https://localhost:8080/"
        },
        "id": "gDOd1mT9Aa6Z",
        "outputId": "219aac40-14ea-4090-d04d-2382669c0c8a"
      },
      "source": [
        "#3. Write a Python program to count the number of even and odd numbers from a series of numbers.\n",
        "\n",
        "number=[1,2,3,4,5,6,7,8,9,10,11,22,33,44,56]\n",
        "even=[]\n",
        "odd=[]\n",
        "for i in number:\n",
        "    if(i%2==0):\n",
        "      even.append(i)\n",
        "    else:\n",
        "      odd.append(i)\n",
        "print(\"Number of even numbers:\",len(even))\n",
        "print(\"Number of odd numbers:\",len(odd))\n",
        "print(\"Show Even numbers:\",even)\n",
        "print(\"Show Odd numbers:\",odd)"
      ],
      "execution_count": null,
      "outputs": [
        {
          "output_type": "stream",
          "text": [
            "Number of even numbers: 8\n",
            "Number of odd numbers: 7\n",
            "Show Even numbers: [2, 4, 6, 8, 10, 22, 44, 56]\n",
            "Show Odd numbers: [1, 3, 5, 7, 9, 11, 33]\n"
          ],
          "name": "stdout"
        }
      ]
    },
    {
      "cell_type": "code",
      "metadata": {
        "colab": {
          "base_uri": "https://localhost:8080/"
        },
        "id": "1AAhmsiGB1cN",
        "outputId": "550f751f-61b2-4622-a56e-a3da033d8995"
      },
      "source": [
        "#4. Write a Python program to find numbers between 100 and 400 (both included) where each digit of a number is an even number. The numbers obtained should be printed in a comma-separated sequence.\n",
        "\n",
        "items = []\n",
        "for i in range(100, 401):\n",
        "    s = str(i)\n",
        "    if (int(s[0])%2==0) and (int(s[1])%2==0) and (int(s[2])%2==0):\n",
        "        items.append(s)\n",
        "print( \",\".join(items))"
      ],
      "execution_count": null,
      "outputs": [
        {
          "output_type": "stream",
          "text": [
            "200,202,204,206,208,220,222,224,226,228,240,242,244,246,248,260,262,264,266,268,280,282,284,286,288,400\n"
          ],
          "name": "stdout"
        }
      ]
    },
    {
      "cell_type": "code",
      "metadata": {
        "colab": {
          "base_uri": "https://localhost:8080/"
        },
        "id": "j_VLwVUzCsLS",
        "outputId": "c576c1de-c6aa-4ded-b049-d8bfcfb9f575"
      },
      "source": [
        "#5 Write a Python program to calculate a dog's age in dog's years. Go to the editor\n",
        "#Note: For the first two years, a dog year is equal to 10.5 human years. After that, each dog year equals 4 human years.\n",
        "\n",
        "#Input a dog's age in human years: 20\n",
        "#The dog's age in dog's years is 93\n",
        "h_age = int(input(\"Input a dog's age in human years: \"))\n",
        "\n",
        "if h_age < 0:\n",
        "\tprint(\"Age must be positive number.\")\n",
        "\texit()\n",
        "elif h_age <= 2:\n",
        "\td_age = h_age * 10.5\n",
        "else:\n",
        "\td_age = 21 + (h_age - 2)*4\n",
        "\n",
        "print(\"The dog's age in dog's years is\", d_age)"
      ],
      "execution_count": null,
      "outputs": [
        {
          "output_type": "stream",
          "text": [
            "Input a dog's age in human years: 20\n",
            "The dog's age in dog's years is 93\n"
          ],
          "name": "stdout"
        }
      ]
    },
    {
      "cell_type": "code",
      "metadata": {
        "colab": {
          "base_uri": "https://localhost:8080/"
        },
        "id": "pRyawxRJFJTl",
        "outputId": "ad619f9f-7175-4314-ec47-690b876f39fc"
      },
      "source": [
        "Age1 = int(input(\"Input a dog's age in human years:\"))\n",
        "dog_Age2 = 0\n",
        "\n",
        "for  i in range(1,Age1-1):\n",
        "    if ( i <= 2):\n",
        "       dog_Age1 = int(i * 10.5)\n",
        "    elif ( i > 2):\n",
        "        dog_Age2 = int(i * 4)\n",
        "        dog_Age =  dog_Age1 + dog_Age2\n",
        "print(\"The dog's age in dog's years\",dog_Age)"
      ],
      "execution_count": null,
      "outputs": [
        {
          "output_type": "stream",
          "text": [
            "Input a dog's age in human years:20\n",
            "The dog's age in dog's years 93\n"
          ],
          "name": "stdout"
        }
      ]
    },
    {
      "cell_type": "code",
      "metadata": {
        "colab": {
          "base_uri": "https://localhost:8080/"
        },
        "id": "WDy-VcvOGQbJ",
        "outputId": "4c2b475c-f5e5-432a-e7bb-42e198b94f5e"
      },
      "source": [
        "#6.Write a Python function to find the Max of three numbers.\n",
        "#The Three numbers are: (3, 6, -5)\n",
        "#6\n",
        "A=[3,6,-5]\n",
        "print(\"The Max of given three numbers is:\",max(A))"
      ],
      "execution_count": null,
      "outputs": [
        {
          "output_type": "stream",
          "text": [
            "The Max of given three numbers is: 6\n"
          ],
          "name": "stdout"
        }
      ]
    },
    {
      "cell_type": "code",
      "metadata": {
        "colab": {
          "base_uri": "https://localhost:8080/"
        },
        "id": "PAJHJDewIiFY",
        "outputId": "ca29b70a-439c-45f5-9238-45281f75f105"
      },
      "source": [
        "#7. Write a Python function that takes a number as a parameter and check the number is prime or not.\n",
        "#The number is: 9\n",
        "#False\n",
        "def test_prime(n):\n",
        "    if (n==1):\n",
        "        return False\n",
        "    elif (n==2):\n",
        "        return True;\n",
        "    else:\n",
        "        for x in range(2,n):\n",
        "            if(n % x==0):\n",
        "                return False\n",
        "        return True             \n",
        "print(test_prime(9))\n"
      ],
      "execution_count": null,
      "outputs": [
        {
          "output_type": "stream",
          "text": [
            "False\n"
          ],
          "name": "stdout"
        }
      ]
    },
    {
      "cell_type": "code",
      "metadata": {
        "colab": {
          "base_uri": "https://localhost:8080/"
        },
        "id": "aoRDg0DTKDJG",
        "outputId": "8d3ee448-5b65-439f-fe19-d1a2c33caeab"
      },
      "source": [
        "#8. Write a Python function that accepts a string and calculate the number of upper case letters and lower case letters. Go to the editor\n",
        "'''\n",
        "Original String :  Inceptz is One of The BeSt Places TO LEarn DataSciEnce\n",
        "No. of Upper case characters :  13\n",
        "No. of Lower case Characters :  32\n",
        "'''\n",
        "string1 = \"Inceptz is One of The BeSt Places TO LEarn DataSciEnce\"\n",
        "lowercount=0\n",
        "uppercount=0\n",
        "\n",
        "for i in string1:\n",
        "    if(i.islower()== True):\n",
        "        lowercount = lowercount + 1\n",
        "    elif(i.isupper() == True):\n",
        "        uppercount = uppercount + 1\n",
        "print(\"Initial String :\",string1)       \n",
        "print(\"No. of Upper case characters :\",uppercount)   \n",
        "print(\"No. of Lower case Characters :\",lowercount)\n"
      ],
      "execution_count": null,
      "outputs": [
        {
          "output_type": "stream",
          "text": [
            "Initial String : Inceptz is One of The BeSt Places TO LEarn DataSciEnce\n",
            "No. of Upper case characters : 13\n",
            "No. of Lower case Characters : 32\n"
          ],
          "name": "stdout"
        }
      ]
    },
    {
      "cell_type": "code",
      "metadata": {
        "colab": {
          "base_uri": "https://localhost:8080/"
        },
        "id": "llCj6vXXM2ia",
        "outputId": "88e0fbc4-14ed-42b7-d91a-630b35c0cc36"
      },
      "source": [
        "#9. Write a Python program to reverse a string.\n",
        "'''\n",
        "The original string is: 1234abcd\n",
        "The reversed string: dcba4321\n",
        "'''\n",
        "str = \"1234abcd\"\n",
        "reverse =  str[::-1]\n",
        "print(\"The original string is:\" ,str )\n",
        "print(\"The reversed string:\" , reverse)"
      ],
      "execution_count": null,
      "outputs": [
        {
          "output_type": "stream",
          "text": [
            "The original string is: 1234abcd\n",
            "The reversed string: dcba4321\n"
          ],
          "name": "stdout"
        }
      ]
    },
    {
      "cell_type": "code",
      "metadata": {
        "colab": {
          "base_uri": "https://localhost:8080/"
        },
        "id": "86-cFbgkNhQR",
        "outputId": "f35a53a6-eb03-461a-fcba-f4fc7f167c24"
      },
      "source": [
        "#10. Write a Python program to find the greatest common divisor (gcd) of two integers.\n",
        "#The two numbers are: (12, 14)\n",
        "#The GCD of the numbers are: 2\n",
        "\n",
        "num1 = int(input(\"Enter the first num :\"))\n",
        "num2 = int(input(\"Enter the second num :\"))\n",
        "gcd =[1]\n",
        "if num1>num2:\n",
        "    g=num2\n",
        "else:\n",
        "    g=num2\n",
        "for i in range(2,g):\n",
        "    if((num1%i)==0 and (num2%i)==0):\n",
        "        gcd.append(i)\n",
        "print(\"The two numbers are:\",num1,num2)\n",
        "print(\"The GCD of the numbers are: \",max(gcd))"
      ],
      "execution_count": null,
      "outputs": [
        {
          "output_type": "stream",
          "text": [
            "Enter the first num :12\n",
            "Enter the second num :14\n",
            "The two numbers are: 12 14\n",
            "The GCD of the numbers are:  2\n"
          ],
          "name": "stdout"
        }
      ]
    },
    {
      "cell_type": "code",
      "metadata": {
        "colab": {
          "base_uri": "https://localhost:8080/"
        },
        "id": "M6mnmCUqOUZF",
        "outputId": "2f643eeb-a6ff-4fc1-fb53-4f97c50913ff"
      },
      "source": [
        "#11. Write a function to find if a string is a palindrome or not!\n",
        "#eg: \"NAMAN\" - is a palindrome \"INCEPTEZ\" - is not a palindrome!\n",
        "\n",
        "\n",
        "String = input(\"Enter the String to check palindrom or Not:\")\n",
        "\n",
        "String1 = String[::-1]\n",
        "\n",
        "if(String == String1):\n",
        "    print(\"Given String is Palindrom:\",String ,\" and Reverse String is\" ,  String1)\n",
        "else:\n",
        "        print(\"Given String is not Palindrom:\",String, \" and Reverse String is\", String1)"
      ],
      "execution_count": null,
      "outputs": [
        {
          "output_type": "stream",
          "text": [
            "Enter the String to check palindrom or Not:NAMAN\n",
            "Given String is Palindrom: NAMAN  and Reverse String is NAMAN\n"
          ],
          "name": "stdout"
        }
      ]
    },
    {
      "cell_type": "code",
      "metadata": {
        "colab": {
          "base_uri": "https://localhost:8080/"
        },
        "id": "9XIkAqqhOtpn",
        "outputId": "729e8b27-fb45-4fbe-caa0-e400337fef34"
      },
      "source": [
        "#12. Write a recurssive function to find if a string is a palindrome or not!\n",
        "\n",
        "def isPalindrome(s):\n",
        "       \n",
        "    #to change it the string is similar case\n",
        "    s = s.lower()\n",
        "    # length of s\n",
        "    l = len(s)\n",
        "     \n",
        "    # if length is less than 2\n",
        "    if l < 2:\n",
        "        return True\n",
        " \n",
        "    # If s[0] and s[l-1] are equal\n",
        "    elif s[0] == s[l - 1]:\n",
        "        \n",
        "        # Call is pallindrome form substring(1,l-1)\n",
        "        return isPalindrome(s[1: l - 1])\n",
        " \n",
        "    else:\n",
        "        return False\n",
        " \n",
        "# Driver Code\n",
        "s = \"MalaYaLam\"\n",
        "ans = isPalindrome(s)\n",
        " \n",
        "if ans:\n",
        "    print(\"Yes\")\n",
        " \n",
        "else:\n",
        "    print(\"No\")\n"
      ],
      "execution_count": 38,
      "outputs": [
        {
          "output_type": "stream",
          "text": [
            "Yes\n"
          ],
          "name": "stdout"
        }
      ]
    }
  ]
}